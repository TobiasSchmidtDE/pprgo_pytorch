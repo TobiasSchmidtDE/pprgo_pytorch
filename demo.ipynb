{
 "cells": [
  {
   "cell_type": "code",
   "execution_count": 3,
   "metadata": {},
   "outputs": [],
   "source": [
    "import os\n",
    "import time\n",
    "import logging\n",
    "import yaml\n",
    "import ast\n",
    "import numpy as np\n",
    "from sklearn.metrics import accuracy_score, f1_score, confusion_matrix\n",
    "import torch\n",
    "from torch_sparse import SparseTensor\n",
    "from pprgo import utils, ppr\n",
    "from pprgo.pprgo import PPRGo, RobustPPRGo\n",
    "from pprgo.train import train\n",
    "from pprgo.predict import predict_power_iter, predict_batched\n",
    "from pprgo.dataset import PPRDataset, RobustPPRDataset\n",
    "from pprgo.pytorch_utils import matrix_to_torch"
   ]
  },
  {
   "cell_type": "code",
   "execution_count": 4,
   "metadata": {},
   "outputs": [],
   "source": [
    "%load_ext autoreload\n",
    "%autoreload 2"
   ]
  },
  {
   "cell_type": "code",
   "execution_count": 5,
   "metadata": {},
   "outputs": [],
   "source": [
    "model_type = \"RobustPPRGO\""
   ]
  },
  {
   "cell_type": "code",
   "execution_count": 6,
   "metadata": {},
   "outputs": [],
   "source": [
    "# choose dataset class\n",
    "if model_type == \"RobustPPRGO\":\n",
    "    DatasetClass = RobustPPRDataset\n",
    "    ModelClass = RobustPPRGo\n",
    "else:\n",
    "    DatasetClass = PPRDataset\n",
    "    ModelClass = PPRGo\n"
   ]
  },
  {
   "cell_type": "code",
   "execution_count": 7,
   "metadata": {},
   "outputs": [],
   "source": [
    "# Set up logging\n",
    "logger = logging.getLogger()\n",
    "logger.handlers = []\n",
    "ch = logging.StreamHandler()\n",
    "formatter = logging.Formatter(\n",
    "        fmt='%(asctime)s (%(levelname)s): %(message)s',\n",
    "        datefmt='%Y-%m-%d %H:%M:%S')\n",
    "ch.setFormatter(formatter)\n",
    "logger.addHandler(ch)\n",
    "logger.setLevel('INFO')"
   ]
  },
  {
   "cell_type": "markdown",
   "metadata": {},
   "source": [
    "# Download dataset"
   ]
  },
  {
   "cell_type": "code",
   "execution_count": 8,
   "metadata": {},
   "outputs": [],
   "source": [
    "#!wget --show-progress -O data/reddit.npz https://ndownloader.figshare.com/files/23742119"
   ]
  },
  {
   "cell_type": "markdown",
   "metadata": {},
   "source": [
    "# Load config"
   ]
  },
  {
   "cell_type": "code",
   "execution_count": 9,
   "metadata": {},
   "outputs": [],
   "source": [
    "with open('config_demo.yaml', 'r') as c:\n",
    "    config = yaml.safe_load(c)"
   ]
  },
  {
   "cell_type": "code",
   "execution_count": 10,
   "metadata": {},
   "outputs": [],
   "source": [
    "# For strings that yaml doesn't parse (e.g. None)\n",
    "for key, val in config.items():\n",
    "    if type(val) is str:\n",
    "        try:\n",
    "            config[key] = ast.literal_eval(val)\n",
    "        except (ValueError, SyntaxError):\n",
    "            pass"
   ]
  },
  {
   "cell_type": "code",
   "execution_count": 11,
   "metadata": {},
   "outputs": [],
   "source": [
    "data_file           = \"/nfs/shared/data/mag_large_filtered_06_09_fine_standardized.npz\"           # Path to the .npz data file\n",
    "split_seed          = config['split_seed']        # Seed for splitting the dataset into train/val/test\n",
    "ntrain_div_classes  = config['ntrain_div_classes']  # Number of training nodes divided by number of classes\n",
    "attr_normalization  = config['attr_normalization']  # Attribute normalization. Not used in the paper\n",
    "\n",
    "alpha               = config['alpha']               # PPR teleport probability\n",
    "eps                 = config['eps']                 # Stopping threshold for ACL's ApproximatePR\n",
    "topk                = config['topk']                # Number of PPR neighbors for each node\n",
    "ppr_normalization   = config['ppr_normalization']   # Adjacency matrix normalization for weighting neighbors\n",
    "\n",
    "hidden_size         = config['hidden_size']         # Size of the MLP's hidden layer\n",
    "nlayers             = config['nlayers']            # Number of MLP layers\n",
    "weight_decay        = config['weight_decay']        # Weight decay used for training the MLP\n",
    "dropout             = config['dropout']             # Dropout used for training\n",
    "\n",
    "lr                  = config['lr']                  # Learning rate\n",
    "max_epochs          = 10          # Maximum number of epochs (exact number if no early stopping)\n",
    "batch_size          = 2048          # Batch size for training\n",
    "batch_mult_val      = config['batch_mult_val']      # Multiplier for validation batch size\n",
    "pred_batch_size     = 10000\n",
    "\n",
    "eval_step           = config['eval_step']           # Accuracy is evaluated after every this number of steps\n",
    "run_val             = config['run_val']             # Evaluate accuracy on validation set during training\n",
    "\n",
    "early_stop          = config['early_stop']          # Use early stopping\n",
    "patience            = config['patience']            # Patience for early stopping\n",
    "\n",
    "nprop_inference     = config['nprop_inference']     # Number of propagation steps during inference\n",
    "inf_fraction        = 0.2        # Fraction of nodes for which local predictions are computed during inference"
   ]
  },
  {
   "cell_type": "markdown",
   "metadata": {},
   "source": [
    "# Load the data"
   ]
  },
  {
   "cell_type": "code",
   "execution_count": 1,
   "metadata": {},
   "outputs": [
    {
     "ename": "NameError",
     "evalue": "name 'time' is not defined",
     "output_type": "error",
     "traceback": [
      "\u001b[0;31m---------------------------------------------------------------------------\u001b[0m",
      "\u001b[0;31mNameError\u001b[0m                                 Traceback (most recent call last)",
      "\u001b[0;32m<ipython-input-1-0fa4bccfb359>\u001b[0m in \u001b[0;36m<module>\u001b[0;34m\u001b[0m\n\u001b[0;32m----> 1\u001b[0;31m \u001b[0mstart\u001b[0m \u001b[0;34m=\u001b[0m \u001b[0mtime\u001b[0m\u001b[0;34m.\u001b[0m\u001b[0mtime\u001b[0m\u001b[0;34m(\u001b[0m\u001b[0;34m)\u001b[0m\u001b[0;34m\u001b[0m\u001b[0;34m\u001b[0m\u001b[0m\n\u001b[0m\u001b[1;32m      2\u001b[0m (adj_matrix, attr_matrix, labels,\n\u001b[1;32m      3\u001b[0m  \u001b[0mtrain_idx\u001b[0m\u001b[0;34m,\u001b[0m \u001b[0mval_idx\u001b[0m\u001b[0;34m,\u001b[0m \u001b[0mtest_idx\u001b[0m\u001b[0;34m)\u001b[0m \u001b[0;34m=\u001b[0m \u001b[0mutils\u001b[0m\u001b[0;34m.\u001b[0m\u001b[0mget_data\u001b[0m\u001b[0;34m(\u001b[0m\u001b[0;34m\u001b[0m\u001b[0;34m\u001b[0m\u001b[0m\n\u001b[1;32m      4\u001b[0m         \u001b[0;34mf\"{data_file}\"\u001b[0m\u001b[0;34m,\u001b[0m\u001b[0;34m\u001b[0m\u001b[0;34m\u001b[0m\u001b[0m\n\u001b[1;32m      5\u001b[0m         \u001b[0mseed\u001b[0m\u001b[0;34m=\u001b[0m\u001b[0msplit_seed\u001b[0m\u001b[0;34m,\u001b[0m\u001b[0;34m\u001b[0m\u001b[0;34m\u001b[0m\u001b[0m\n",
      "\u001b[0;31mNameError\u001b[0m: name 'time' is not defined"
     ]
    }
   ],
   "source": [
    "start = time.time()\n",
    "(adj_matrix, attr_matrix, labels,\n",
    " train_idx, val_idx, test_idx) = utils.get_data(\n",
    "        f\"{data_file}\",\n",
    "        seed=split_seed,\n",
    "        ntrain_div_classes=ntrain_div_classes,\n",
    "        normalize_attr=attr_normalization\n",
    ")\n",
    "try:\n",
    "    d = attr_matrix.n_columns\n",
    "except AttributeError:\n",
    "    d = attr_matrix.shape[1]\n",
    "nc = labels.max() + 1\n",
    "time_loading = time.time() - start\n",
    "print(f\"Runtime: {time_loading:.2f}s\")"
   ]
  },
  {
   "cell_type": "code",
   "execution_count": null,
   "metadata": {},
   "outputs": [],
   "source": [
    "len(train_idx)"
   ]
  },
  {
   "cell_type": "code",
   "execution_count": null,
   "metadata": {},
   "outputs": [],
   "source": []
  },
  {
   "cell_type": "markdown",
   "metadata": {},
   "source": [
    "# Preprocessing: Calculate PPR scores"
   ]
  },
  {
   "cell_type": "code",
   "execution_count": null,
   "metadata": {},
   "outputs": [],
   "source": [
    "# compute the ppr vectors for train/val nodes using ACL's ApproximatePR\n",
    "start = time.time()\n",
    "topk_train = ppr.topk_ppr_matrix(adj_matrix, alpha, eps, train_idx, topk,\n",
    "                                 normalization=ppr_normalization)\n",
    "train_set = DatasetClass(attr_matrix_all=attr_matrix, ppr_matrix=topk_train, indices=train_idx, labels_all=labels)\n",
    "if run_val:\n",
    "    topk_val = ppr.topk_ppr_matrix(adj_matrix, alpha, eps, val_idx, topk,\n",
    "                                   normalization=ppr_normalization)\n",
    "    val_set = DatasetClass(attr_matrix_all=attr_matrix, ppr_matrix=topk_val, indices=val_idx, labels_all=labels)\n",
    "else:\n",
    "    val_set = None\n",
    "time_preprocessing = time.time() - start\n",
    "print(f\"Runtime: {time_preprocessing:.2f}s\")"
   ]
  },
  {
   "cell_type": "code",
   "execution_count": null,
   "metadata": {},
   "outputs": [],
   "source": [
    "len(train_set)"
   ]
  },
  {
   "cell_type": "code",
   "execution_count": null,
   "metadata": {},
   "outputs": [],
   "source": [
    "train_loader = torch.utils.data.DataLoader(\n",
    "        dataset=train_set,\n",
    "        sampler=torch.utils.data.BatchSampler(\n",
    "            torch.utils.data.SequentialSampler(train_set),\n",
    "            batch_size=64, drop_last=False\n",
    "        ),\n",
    "        batch_size=None,\n",
    "        num_workers=0,\n",
    "    )"
   ]
  },
  {
   "cell_type": "code",
   "execution_count": null,
   "metadata": {},
   "outputs": [],
   "source": []
  },
  {
   "cell_type": "code",
   "execution_count": null,
   "metadata": {},
   "outputs": [],
   "source": []
  },
  {
   "cell_type": "code",
   "execution_count": null,
   "metadata": {},
   "outputs": [],
   "source": []
  },
  {
   "cell_type": "markdown",
   "metadata": {},
   "source": [
    "# Training: Set up model and train"
   ]
  },
  {
   "cell_type": "code",
   "execution_count": null,
   "metadata": {},
   "outputs": [],
   "source": [
    "start = time.time()\n",
    "model = ModelClass(d, nc, hidden_size, nlayers, dropout, aggr=\"mean\")\n",
    "device = torch.device('cuda') if torch.cuda.is_available() else torch.device('cpu')\n",
    "model.to(device)\n",
    "\n",
    "nepochs, _, _ = train(\n",
    "        model=model, train_set=train_set, val_set=val_set,\n",
    "        lr=lr, weight_decay=weight_decay,\n",
    "        max_epochs=max_epochs, batch_size=batch_size, batch_mult_val=batch_mult_val,\n",
    "        eval_step=eval_step, early_stop=early_stop, patience=patience)\n",
    "time_training = time.time() - start\n",
    "logging.info('Training done.')\n",
    "print(f\"Runtime: {time_training:.2f}s\")"
   ]
  },
  {
   "cell_type": "code",
   "execution_count": null,
   "metadata": {},
   "outputs": [],
   "source": []
  },
  {
   "cell_type": "markdown",
   "metadata": {},
   "source": [
    "# Inference (val and test)"
   ]
  },
  {
   "cell_type": "code",
   "execution_count": null,
   "metadata": {},
   "outputs": [
    {
     "name": "stderr",
     "output_type": "stream",
     "text": [
      "2021-01-04 17:50:33 (INFO): Prediction step 0/2 - 0.00%\n",
      "2021-01-04 17:50:33 (INFO): Prediction step 1/2 - 0.41%\n",
      "2021-01-04 17:50:33 (INFO): Prediction step 2/2 - 0.83%\n",
      "2021-01-04 17:50:33 (INFO): Calculated all logits\n",
      "2021-01-04 17:50:33 (INFO): 3\n",
      "2021-01-04 17:50:33 (INFO): 512\n"
     ]
    }
   ],
   "source": [
    "start = time.time()\n",
    "predictions, time_logits, time_propagation = predict(\n",
    "        model=model, adj_matrix=adj_matrix, attr_matrix=attr_matrix, alpha=alpha,\n",
    "        nprop=nprop_inference, inf_fraction=0.0001,\n",
    "        ppr_normalization=ppr_normalization,\n",
    "        batch_size_logits=512)\n",
    "time_inference = time.time() - start\n",
    "print(f\"Runtime: {time_inference:.2f}s\")"
   ]
  },
  {
   "cell_type": "markdown",
   "metadata": {},
   "source": [
    "# Collect and print results"
   ]
  },
  {
   "cell_type": "code",
   "execution_count": null,
   "metadata": {},
   "outputs": [],
   "source": [
    "acc_train = 100 * accuracy_score(labels[train_idx], predictions[train_idx])\n",
    "acc_val = 100 * accuracy_score(labels[val_idx], predictions[val_idx])\n",
    "acc_test = 100 * accuracy_score(labels[test_idx], predictions[test_idx])\n",
    "f1_train = f1_score(labels[train_idx], predictions[train_idx], average='macro')\n",
    "f1_val = f1_score(labels[val_idx], predictions[val_idx], average='macro')\n",
    "f1_test = f1_score(labels[test_idx], predictions[test_idx], average='macro')\n",
    "\n",
    "gpu_memory = torch.cuda.max_memory_allocated()\n",
    "memory = utils.get_max_memory_bytes()\n",
    "\n",
    "time_total = time_preprocessing + time_training + time_inference"
   ]
  },
  {
   "cell_type": "code",
   "execution_count": null,
   "metadata": {},
   "outputs": [],
   "source": [
    "print(f'''\n",
    "Accuracy: Train: {acc_train:.1f}%, val: {acc_val:.1f}%, test: {acc_test:.1f}%\n",
    "F1 score: Train: {f1_train:.3f}, val: {f1_val:.3f}, test: {f1_test:.3f}\n",
    "\n",
    "Runtime: Preprocessing: {time_preprocessing:.2f}s, training: {time_training:.2f}s, inference: {time_inference:.2f}s -> total: {time_total:.2f}s\n",
    "Memory: Main: {memory / 2**30:.2f}GB, GPU: {gpu_memory / 2**30:.3f}GB\n",
    "''')"
   ]
  },
  {
   "cell_type": "code",
   "execution_count": null,
   "metadata": {},
   "outputs": [],
   "source": []
  },
  {
   "cell_type": "code",
   "execution_count": null,
   "metadata": {},
   "outputs": [],
   "source": []
  },
  {
   "cell_type": "code",
   "execution_count": null,
   "metadata": {},
   "outputs": [],
   "source": []
  },
  {
   "cell_type": "code",
   "execution_count": null,
   "metadata": {},
   "outputs": [],
   "source": []
  }
 ],
 "metadata": {
  "kernelspec": {
   "display_name": "Python 3",
   "language": "python",
   "name": "python3"
  },
  "language_info": {
   "codemirror_mode": {
    "name": "ipython",
    "version": 3
   },
   "file_extension": ".py",
   "mimetype": "text/x-python",
   "name": "python",
   "nbconvert_exporter": "python",
   "pygments_lexer": "ipython3",
   "version": "3.8.5"
  }
 },
 "nbformat": 4,
 "nbformat_minor": 4
}
